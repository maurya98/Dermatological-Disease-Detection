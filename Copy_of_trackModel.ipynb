{
  "nbformat": 4,
  "nbformat_minor": 0,
  "metadata": {
    "colab": {
      "name": "Copy of trackModel.ipynb",
      "provenance": [],
      "collapsed_sections": []
    },
    "language_info": {
      "codemirror_mode": {
        "name": "ipython",
        "version": 3
      },
      "file_extension": ".py",
      "mimetype": "text/x-python",
      "name": "python",
      "nbconvert_exporter": "python",
      "pygments_lexer": "ipython3",
      "version": "3.5.3"
    },
    "kernelspec": {
      "name": "python3",
      "display_name": "Python 3"
    },
    "accelerator": "GPU"
  },
  "cells": [
    {
      "cell_type": "markdown",
      "metadata": {
        "id": "lfToTEGLjAAg"
      },
      "source": [
        "## **Track Classification Model**"
      ]
    },
    {
      "cell_type": "markdown",
      "metadata": {
        "id": "bEMMz1KzbfR4"
      },
      "source": [
        "### Importing required libraries"
      ]
    },
    {
      "cell_type": "code",
      "metadata": {
        "id": "TiovJ6D_i_JV",
        "colab": {
          "base_uri": "https://localhost:8080/",
          "height": 80
        },
        "outputId": "88488292-54a0-4117-bce6-db7760ce84a3"
      },
      "source": [
        "import os\n",
        "import numpy as np\n",
        "import matplotlib.pyplot as plt\n",
        "import keras\n",
        "import tensorflow as tf\n",
        "from tensorflow.keras.models import Sequential\n",
        "from tensorflow.keras.layers import Dense, Conv2D, Flatten, Dropout, MaxPooling2D\n",
        "from tensorflow.keras.preprocessing.image import ImageDataGenerator"
      ],
      "execution_count": null,
      "outputs": [
        {
          "output_type": "stream",
          "text": [
            "Using TensorFlow backend.\n"
          ],
          "name": "stderr"
        },
        {
          "output_type": "display_data",
          "data": {
            "text/html": [
              "<p style=\"color: red;\">\n",
              "The default version of TensorFlow in Colab will soon switch to TensorFlow 2.x.<br>\n",
              "We recommend you <a href=\"https://www.tensorflow.org/guide/migrate\" target=\"_blank\">upgrade</a> now \n",
              "or ensure your notebook will continue to use TensorFlow 1.x via the <code>%tensorflow_version 1.x</code> magic:\n",
              "<a href=\"https://colab.research.google.com/notebooks/tensorflow_version.ipynb\" target=\"_blank\">more info</a>.</p>\n"
            ],
            "text/plain": [
              "<IPython.core.display.HTML object>"
            ]
          },
          "metadata": {
            "tags": []
          }
        }
      ]
    },
    {
      "cell_type": "code",
      "metadata": {
        "id": "OybEitTVssGQ"
      },
      "source": [
        "#Mounting your Google Drive\n",
        "from google.colab import drive\n",
        "drive.mount('/content/drive/')"
      ],
      "execution_count": null,
      "outputs": []
    },
    {
      "cell_type": "code",
      "metadata": {
        "id": "1ot7z4L2siyC"
      },
      "source": [
        "base_dir = '/content/drive/My Drive/disease'\n",
        "train_dir = os.path.join(base_dir, 'train')\n",
        "validation_dir =os.path.join(base_dir, 'validation')"
      ],
      "execution_count": null,
      "outputs": []
    },
    {
      "cell_type": "code",
      "metadata": {
        "id": "AZnlQoChzJ6O",
        "colab": {
          "base_uri": "https://localhost:8080/",
          "height": 76
        },
        "outputId": "cc1c286d-d85a-4016-9baf-60308f2583e7"
      },
      "source": [
        "print(train_dir)"
      ],
      "execution_count": null,
      "outputs": [
        {
          "output_type": "stream",
          "text": [
            "/content/drive/My Drive/MLandAI/IOT-NCR/track-classification/Track Images/train\n"
          ],
          "name": "stdout"
        }
      ]
    },
    {
      "cell_type": "code",
      "metadata": {
        "id": "sDnBMOUSsiyL",
        "colab": {
          "base_uri": "https://localhost:8080/",
          "height": 76
        },
        "outputId": "41b1664f-918e-401d-d942-f068f5561a0a"
      },
      "source": [
        "print(validation_dir)"
      ],
      "execution_count": null,
      "outputs": [
        {
          "output_type": "stream",
          "text": [
            "/content/drive/My Drive/MLandAI/IOT-NCR/track-classification/Track Images/validation\n"
          ],
          "name": "stdout"
        }
      ]
    },
    {
      "cell_type": "code",
      "metadata": {
        "id": "UGB64QHysiyP"
      },
      "source": [
        "#Path definition of train and validation directories\n",
        "train_left_dir =os.path.join(train_dir, 'left')  \n",
        "train_right_dir =os.path.join(train_dir, 'right')\n",
        "train_straight_dir =os.path.join(train_dir, 'straight')\n",
        "validation_left_dir =os.path.join(validation_dir, 'left')\n",
        "validation_right_dir =os.path.join(validation_dir, 'right')\n",
        "validation_straight_dir = os.path.join(validation_dir, 'straight')"
      ],
      "execution_count": null,
      "outputs": []
    },
    {
      "cell_type": "code",
      "metadata": {
        "id": "_Q1tLyZ9siyR"
      },
      "source": [
        "#Calculate total number of images in the directories\n",
        "num_left_tr = len(os.listdir(train_left_dir))\n",
        "num_right_tr = len(os.listdir(train_right_dir))\n",
        "num_straight_tr = len(os.listdir(train_straight_dir))\n",
        "\n",
        "num_left_val = len(os.listdir(validation_left_dir))\n",
        "num_right_val = len(os.listdir(validation_right_dir))\n",
        "num_straight_val = len(os.listdir(validation_straight_dir))\n",
        "\n",
        "total_train = num_left_tr + num_right_tr + num_straight_tr\n",
        "total_val = num_left_val + num_right_val + num_straight_val"
      ],
      "execution_count": null,
      "outputs": []
    },
    {
      "cell_type": "code",
      "metadata": {
        "id": "b9w_LUtnsiyT",
        "colab": {
          "base_uri": "https://localhost:8080/",
          "height": 216
        },
        "outputId": "b20fe13b-ff8f-4d90-add8-83ddb0ea7deb"
      },
      "source": [
        "#print number of images\n",
        "print('total training left images:', num_left_tr)\n",
        "print('total training right images:', num_right_tr)\n",
        "print('total training straight images:', num_straight_tr)\n",
        "\n",
        "print('total validation left images:', num_left_val)\n",
        "print('total validation right images:', num_right_val)\n",
        "print('total validation straight images:', num_straight_val)\n",
        "\n",
        "print(\"--\")\n",
        "print(\"Total training images:\", total_train)\n",
        "print(\"Total validation images:\", total_val)"
      ],
      "execution_count": null,
      "outputs": [
        {
          "output_type": "stream",
          "text": [
            "total training left images: 56\n",
            "total training right images: 24\n",
            "total training straight images: 107\n",
            "total validation left images: 24\n",
            "total validation right images: 10\n",
            "total validation straight images: 46\n",
            "--\n",
            "Total training images: 187\n",
            "Total validation images: 80\n"
          ],
          "name": "stdout"
        }
      ]
    },
    {
      "cell_type": "markdown",
      "metadata": {
        "id": "guc7shID05Wk"
      },
      "source": [
        "### Train, Test and Validation Set Generation"
      ]
    },
    {
      "cell_type": "code",
      "metadata": {
        "id": "yHsXAK-HsiyZ"
      },
      "source": [
        "#Applying transformation to the images\n",
        "train_image_generator = ImageDataGenerator(rescale=1./255, rotation_range =0) \n",
        "validation_image_generator = ImageDataGenerator(rescale=1./255)"
      ],
      "execution_count": null,
      "outputs": []
    },
    {
      "cell_type": "code",
      "metadata": {
        "id": "Hh-QIc38siyc",
        "colab": {
          "base_uri": "https://localhost:8080/",
          "height": 76
        },
        "outputId": "515782ba-c38b-4498-b272-ab70254e5c56"
      },
      "source": [
        "#Reading train data from directory\n",
        "train_data_gen =train_image_generator.flow_from_directory(\n",
        "                                                directory=train_dir, \n",
        "                                                shuffle=True, \n",
        "                                                target_size=(640,280),\n",
        "                                                color_mode=\"grayscale\"\n",
        "                                                )"
      ],
      "execution_count": null,
      "outputs": [
        {
          "output_type": "stream",
          "text": [
            "Found 187 images belonging to 3 classes.\n"
          ],
          "name": "stdout"
        }
      ]
    },
    {
      "cell_type": "code",
      "metadata": {
        "id": "HmL7q7IJsiyf",
        "colab": {
          "base_uri": "https://localhost:8080/",
          "height": 76
        },
        "outputId": "64e3f50a-217b-4e3b-cabf-bff621e8d779"
      },
      "source": [
        "#Reading validation data from directory\n",
        "val_data_gen = validation_image_generator.flow_from_directory(                                                              \n",
        "                                                              color_mode=\"grayscale\",\n",
        "                                                              directory=validation_dir, \n",
        "                                                              target_size=(640,280))"
      ],
      "execution_count": null,
      "outputs": [
        {
          "output_type": "stream",
          "text": [
            "Found 80 images belonging to 3 classes.\n"
          ],
          "name": "stdout"
        }
      ]
    },
    {
      "cell_type": "code",
      "metadata": {
        "id": "Lc73asWssiyh"
      },
      "source": [
        "#Function to view the class labels\n",
        "def classLabel(source=None):\n",
        "        datagen = ImageDataGenerator(rescale=1. / 255)\n",
        "        data_generator = datagen.flow_from_directory(\n",
        "        source)\n",
        "        class_dictionary = data_generator.class_indices\n",
        "        return data_generator, class_dictionary"
      ],
      "execution_count": null,
      "outputs": []
    },
    {
      "cell_type": "code",
      "metadata": {
        "id": "PRJhhotssiyj",
        "colab": {
          "base_uri": "https://localhost:8080/",
          "height": 92
        },
        "outputId": "138ef0a5-b233-4d03-a195-bc8d233178de"
      },
      "source": [
        "labels = classLabel(train_dir)\n",
        "print(labels)"
      ],
      "execution_count": null,
      "outputs": [
        {
          "output_type": "stream",
          "text": [
            "Found 187 images belonging to 3 classes.\n",
            "(<keras_preprocessing.image.directory_iterator.DirectoryIterator object at 0x7fc4a51d29e8>, {'left': 0, 'right': 1, 'straight': 2})\n"
          ],
          "name": "stdout"
        }
      ]
    },
    {
      "cell_type": "code",
      "metadata": {
        "id": "TkCNv90asiyp"
      },
      "source": [
        "sample_training_images, _ = next(train_data_gen) "
      ],
      "execution_count": null,
      "outputs": []
    },
    {
      "cell_type": "markdown",
      "metadata": {
        "id": "pSXZWsExodol"
      },
      "source": [
        "### CNN Model building and training"
      ]
    },
    {
      "cell_type": "code",
      "metadata": {
        "id": "BUuFGt4-01kj"
      },
      "source": [
        "epochs = 20\n",
        "batch_size = 15"
      ],
      "execution_count": null,
      "outputs": []
    },
    {
      "cell_type": "code",
      "metadata": {
        "id": "FDg27uN2siyx",
        "colab": {
          "base_uri": "https://localhost:8080/",
          "height": 128
        },
        "outputId": "8fc436b3-4dfe-44e0-b07e-a69ef4078240"
      },
      "source": [
        "model = Sequential()\n",
        "model.add(Conv2D(16, 3, padding='same', activation='relu', input_shape=(640,280,1,))) \n",
        "model.add(MaxPooling2D(pool_size=(2, 2)))\n",
        "model.add(Conv2D(32, 3, padding='same', activation='relu'))\n",
        "model.add(MaxPooling2D(pool_size=(2, 2)))\n",
        "\n",
        "model.add(Conv2D(64, 3, padding='same', activation='relu'))\n",
        "model.add(MaxPooling2D(pool_size=(2, 2)))\n",
        "\n",
        "model.add(Flatten())\n",
        "model.add(Dense(512, activation='relu'))\n",
        "model.add(Dense(3, activation='softmax'))"
      ],
      "execution_count": null,
      "outputs": [
        {
          "output_type": "stream",
          "text": [
            "WARNING: Logging before flag parsing goes to stderr.\n",
            "W0704 10:29:11.912236 140483128248192 deprecation.py:506] From /usr/local/lib/python3.6/dist-packages/tensorflow/python/ops/init_ops.py:1251: calling VarianceScaling.__init__ (from tensorflow.python.ops.init_ops) with dtype is deprecated and will be removed in a future version.\n",
            "Instructions for updating:\n",
            "Call initializer instance with the dtype argument instead of passing it to the constructor\n"
          ],
          "name": "stderr"
        }
      ]
    },
    {
      "cell_type": "code",
      "metadata": {
        "id": "i0iW1JZLsiyz"
      },
      "source": [
        "model.compile(loss= \"categorical_crossentropy\",\n",
        "              optimizer=\"adam\",\n",
        "              metrics=['accuracy'])\n"
      ],
      "execution_count": null,
      "outputs": []
    },
    {
      "cell_type": "code",
      "metadata": {
        "id": "_1JXuuG4siy2",
        "colab": {
          "base_uri": "https://localhost:8080/",
          "height": 1000
        },
        "outputId": "0dc05468-d523-4b37-9607-39d041fa7d22"
      },
      "source": [
        "history = model.fit_generator(\n",
        "    train_data_gen,\n",
        "    steps_per_epoch=int(np.ceil(total_train / float(batch_size))),\n",
        "    epochs=10,\n",
        "    validation_data=val_data_gen,\n",
        "    validation_steps=int(np.ceil(total_val / float(batch_size)))\n",
        ")"
      ],
      "execution_count": null,
      "outputs": [
        {
          "output_type": "stream",
          "text": [
            "Epoch 1/10\n",
            "13/13 [==============================] - 115s 9s/step - loss: 0.3669 - acc: 0.8473 - val_loss: 0.2995 - val_acc: 0.8625\n",
            "Epoch 2/10\n",
            "13/13 [==============================] - 4s 284ms/step - loss: 0.0364 - acc: 0.9852 - val_loss: 0.3018 - val_acc: 0.9000\n",
            "Epoch 3/10\n",
            "13/13 [==============================] - 4s 281ms/step - loss: 0.0181 - acc: 0.9950 - val_loss: 0.4302 - val_acc: 0.9250\n",
            "Epoch 4/10\n",
            "13/13 [==============================] - 4s 276ms/step - loss: 0.0083 - acc: 0.9951 - val_loss: 0.3372 - val_acc: 0.9250\n",
            "Epoch 5/10\n",
            "13/13 [==============================] - 4s 271ms/step - loss: 0.0115 - acc: 0.9951 - val_loss: 0.3401 - val_acc: 0.9250\n",
            "Epoch 6/10\n",
            "13/13 [==============================] - 4s 292ms/step - loss: 0.0073 - acc: 0.9975 - val_loss: 0.3030 - val_acc: 0.9250\n",
            "Epoch 7/10\n",
            "13/13 [==============================] - 4s 280ms/step - loss: 0.0030 - acc: 1.0000 - val_loss: 0.3198 - val_acc: 0.9125\n",
            "Epoch 8/10\n",
            "13/13 [==============================] - 4s 286ms/step - loss: 0.0017 - acc: 1.0000 - val_loss: 0.4316 - val_acc: 0.9125\n",
            "Epoch 9/10\n",
            "13/13 [==============================] - 4s 278ms/step - loss: 7.4701e-04 - acc: 1.0000 - val_loss: 0.4582 - val_acc: 0.9125\n",
            "Epoch 10/10\n",
            "13/13 [==============================] - 4s 277ms/step - loss: 6.9148e-04 - acc: 1.0000 - val_loss: 0.4694 - val_acc: 0.9125\n"
          ],
          "name": "stdout"
        }
      ]
    },
    {
      "cell_type": "markdown",
      "metadata": {
        "id": "ELrY6qKGjDka"
      },
      "source": [
        "***Track Classification Model has been trained!***"
      ]
    },
    {
      "cell_type": "code",
      "metadata": {
        "id": "8hLZrsWHhjxX",
        "colab": {
          "base_uri": "https://localhost:8080/",
          "height": 319
        },
        "outputId": "8df59f63-f3ec-4708-d5ee-e81c3be3b91c"
      },
      "source": [
        "acc = history.history['acc']\n",
        "val_acc = history.history['val_acc']\n",
        "loss = history.history['loss']\n",
        "val_loss = history.history['val_loss']\n",
        "\n",
        "epochs = range(len(acc))\n",
        "\n",
        "plt.plot(epochs, acc, 'r', label='Training accuracy')\n",
        "plt.plot(epochs, val_acc, 'b', label='Validation accuracy')\n",
        "plt.title('Training and validation accuracy')\n",
        "plt.legend(loc=0)\n",
        "plt.figure()\n",
        "\n",
        "\n",
        "plt.show()"
      ],
      "execution_count": null,
      "outputs": [
        {
          "output_type": "display_data",
          "data": {
            "image/png": "[encoded data removed]",
            "text/plain": [
              "<Figure size 432x288 with 1 Axes>"
            ]
          },
          "metadata": {
            "tags": []
          }
        },
        {
          "output_type": "display_data",
          "data": {
            "text/plain": [
              "<Figure size 432x288 with 0 Axes>"
            ]
          },
          "metadata": {
            "tags": []
          }
        }
      ]
    }
  ]
}